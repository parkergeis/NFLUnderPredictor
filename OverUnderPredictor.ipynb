{
 "cells": [
  {
   "cell_type": "code",
   "execution_count": null,
   "metadata": {},
   "outputs": [],
   "source": [
    "import numpy as np\n",
    "import pandas as pd\n",
    "import matplotlib.pyplot as plt\n",
    "from sklearn.neighbors import KNeighborsClassifier, NearestNeighbors, LocalOutlierFactor\n",
    "from sklearn.metrics import accuracy_score, classification_report, confusion_matrix, ConfusionMatrixDisplay\n",
    "from sklearn.pipeline import Pipeline\n",
    "from sklearn.preprocessing import StandardScaler\n",
    "import nfl_data_py as nfl\n",
    "import datetime as dt\n",
    "today = dt.date.today()\n",
    "year = today.year\n",
    "pd.set_option(\"display.max_columns\", None)\n",
    "pd.set_option('display.max_colwidth', None)"
   ]
  },
  {
   "cell_type": "code",
   "execution_count": null,
   "metadata": {},
   "outputs": [],
   "source": [
    "df = nfl.import_schedules(years=range(2000,year+1))\n",
    "currSeason = df[df.season == year]\n",
    "predWeek = currSeason[['week', 'total_line']].dropna()\n",
    "predWeek = predWeek.week.max()"
   ]
  },
  {
   "cell_type": "code",
   "execution_count": null,
   "metadata": {},
   "outputs": [],
   "source": [
    "df = df[['home_team', 'away_team', 'season', 'total', 'week', 'gametime', 'spread_line', 'total_line', 'under_odds']]\n",
    "df['Over'] = np.where(df['total'] > df['total_line'], 1, 0)\n",
    "df['Under'] = np.where(df['total'] < df['total_line'], 1, 0)\n",
    "df['Push'] = np.where(df['total'] == df['total_line'], 1, 0)\n",
    "df = df[df.Push != 1]\n",
    "df.drop(columns='total', inplace=True)\n",
    "df.reset_index(drop=True, inplace=True)\n",
    "df = df.dropna()"
   ]
  },
  {
   "cell_type": "code",
   "execution_count": null,
   "metadata": {},
   "outputs": [],
   "source": [
    "# Model building\n",
    "features = ['spread_line', 'total_line', 'under_odds']\n",
    "target = 'Under'\n",
    "\n",
    "train_df = df[df.season < df.season.max()-1]\n",
    "test_df = df[df.season == df.season.max()-1]\n",
    "X_train = train_df[features]\n",
    "y_train = train_df[target]\n",
    "X_test = test_df[features]\n",
    "y_test = test_df[target]\n",
    "\n",
    "# model = KNeighborsClassifier(n_neighbors=13)\n",
    "\n",
    "pipe = Pipeline([\n",
    "    ('scaler', StandardScaler()),\n",
    "    ('model', KNeighborsClassifier(n_neighbors=7))\n",
    "])\n",
    "\n",
    "classif = pipe.fit(X_train, y_train)\n",
    "\n",
    "pipe2 = Pipeline([\n",
    "    ('scaler', StandardScaler()),\n",
    "    ('lof', LocalOutlierFactor(novelty=True))\n",
    "])\n",
    "\n",
    "pipe2.fit(X_train)\n",
    "y_test_nov = pipe2.predict(X_test)\n",
    "\n",
    "mask = [y == 1 for y in y_test_nov]\n",
    "\n",
    "X_test = X_test[mask]\n",
    "y_test = y_test[mask]\n",
    "y_pred = classif.predict(X_test)\n",
    "y_true = y_test\n",
    "\n",
    "print(f'Total accuracy score={accuracy_score(y_true, y_pred):.2%}')\n",
    "print(f'\\nClassification Report:')\n",
    "print(classification_report(y_true, y_pred, target_names=['Over', 'Under']))\n",
    "\n",
    "cm = confusion_matrix(y_true, y_pred)\n",
    "display = ConfusionMatrixDisplay(confusion_matrix=cm, display_labels=['Over', 'Under'])\n",
    "display.plot()\n",
    "plt.grid(False)\n",
    "plt.show()"
   ]
  },
  {
   "cell_type": "code",
   "execution_count": null,
   "metadata": {},
   "outputs": [],
   "source": [
    "train_df = df[(df.season < year) & (df.week < predWeek) | (df.season < year)]\n",
    "test_df = df[(df.season == year) & (df.week == predWeek)]\n",
    "X_train = train_df[features]\n",
    "y_train = train_df[target]\n",
    "X_test = test_df[features]\n",
    "y_test = test_df[target]\n",
    "\n",
    "pipe = Pipeline([\n",
    "    ('scaler', StandardScaler()),\n",
    "    ('model', KNeighborsClassifier(n_neighbors=7))\n",
    "])\n",
    "\n",
    "classif = pipe.fit(X_train, y_train)\n",
    "\n",
    "pipe2 = Pipeline([\n",
    "    ('scaler', StandardScaler()),\n",
    "    ('lof', LocalOutlierFactor(novelty=True))\n",
    "])\n",
    "\n",
    "pipe2.fit(X_train)\n",
    "y_test_nov = pipe2.predict(X_test)\n",
    "\n",
    "mask = [y == 1 for y in y_test_nov]\n",
    "X_test = X_test[mask]\n",
    "y_test = y_test[mask]\n",
    "y_pred = classif.predict(X_test)\n",
    "y_true = y_test\n",
    "\n",
    "# Predicted Plays log\n",
    "nextPlays = currSeason[currSeason.week == predWeek]\n",
    "nextPlays['Predicted Outcome'] = y_pred\n",
    "nextPlays = nextPlays[nextPlays['Predicted Outcome'] == 1]\n",
    "nextPlays = nextPlays[['game_id', 'season', 'week', 'home_team', 'away_team', 'gametime', 'weekday', 'total_line', 'under_odds']]\n",
    "nextPlays.columns = ['Game ID', 'Season', 'Week', 'Home', 'Away', 'Start Time', 'Day', 'Total Line', 'Under Odds']"
   ]
  },
  {
   "cell_type": "code",
   "execution_count": null,
   "metadata": {},
   "outputs": [],
   "source": [
    "nextPlays"
   ]
  }
 ],
 "metadata": {
  "kernelspec": {
   "display_name": "Python 3",
   "language": "python",
   "name": "python3"
  },
  "language_info": {
   "codemirror_mode": {
    "name": "ipython",
    "version": 3
   },
   "file_extension": ".py",
   "mimetype": "text/x-python",
   "name": "python",
   "nbconvert_exporter": "python",
   "pygments_lexer": "ipython3",
   "version": "3.12.4"
  }
 },
 "nbformat": 4,
 "nbformat_minor": 2
}
