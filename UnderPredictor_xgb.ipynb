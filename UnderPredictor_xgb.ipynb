{
 "cells": [
  {
   "cell_type": "code",
   "execution_count": 63,
   "metadata": {},
   "outputs": [],
   "source": [
    "import pandas as pd\n",
    "from sklearn.metrics import accuracy_score, classification_report, confusion_matrix, ConfusionMatrixDisplay\n",
    "from sklearn.model_selection import train_test_split\n",
    "from sklearn.ensemble import RandomForestClassifier\n",
    "from sklearn.metrics import accuracy_score, precision_score\n",
    "from helper_functions import data_load, data_split, rf_model, google_export\n",
    "import warnings\n",
    "\n",
    "warnings.filterwarnings('ignore')\n",
    "pd.set_option(\"display.max_columns\", None)\n",
    "pd.set_option('display.max_colwidth', None)"
   ]
  },
  {
   "cell_type": "code",
   "execution_count": 64,
   "metadata": {},
   "outputs": [],
   "source": [
    "year = 2024\n",
    "week = 6\n",
    "day = 0 # 0-Sun, 1-Mon, 4-Thu"
   ]
  },
  {
   "cell_type": "code",
   "execution_count": 65,
   "metadata": {},
   "outputs": [],
   "source": [
    "allSeasons, currSeason = data_load(year, week)"
   ]
  },
  {
   "cell_type": "code",
   "execution_count": 66,
   "metadata": {},
   "outputs": [],
   "source": [
    "features = ['season', 'week', 'weekday', 'gametime', 'away_team', 'home_team', 'away_rest', 'home_rest', 'away_moneyline', 'home_moneyline', 'spread_line', 'total_line', 'under_odds', 'over_odds', 'div_game']"
   ]
  },
  {
   "cell_type": "markdown",
   "metadata": {},
   "source": [
    "# Accuracy Testing"
   ]
  },
  {
   "cell_type": "code",
   "execution_count": 67,
   "metadata": {},
   "outputs": [],
   "source": [
    "# Model building\n",
    "accuracy_df = allSeasons.dropna(axis=0)\n",
    "y = accuracy_df.Under\n",
    "X = accuracy_df[features]\n",
    "\n",
    "precis_array = []\n",
    "acc_array = []\n",
    "for i in range(1, 26):\n",
    "    X_train, X_test, y_train, y_test = train_test_split(X, y, test_size=0.25, random_state=i, stratify=y)\n",
    "    for j in range(1,11):\n",
    "        rf = RandomForestClassifier(n_estimators=50, min_samples_split=10, random_state=j)\n",
    "        rf.fit(X_train, y_train)\n",
    "        preds = rf.predict(X_test)\n",
    "        acc = accuracy_score(y_test, preds)\n",
    "        precis = precision_score(y_test, preds)\n",
    "        precis_array.append(precis)\n",
    "        acc_array.append(acc)"
   ]
  },
  {
   "cell_type": "code",
   "execution_count": 68,
   "metadata": {},
   "outputs": [
    {
     "data": {
      "text/plain": [
       "0.5951603915915791"
      ]
     },
     "execution_count": 68,
     "metadata": {},
     "output_type": "execute_result"
    }
   ],
   "source": [
    "def find_mean(array):\n",
    "    if len(array) == 0:\n",
    "        return 0  # To handle empty arrays\n",
    "    return sum(array) / len(array)\n",
    "find_mean(precis_array)"
   ]
  },
  {
   "cell_type": "code",
   "execution_count": 69,
   "metadata": {},
   "outputs": [
    {
     "data": {
      "text/plain": [
       "0.5460444444444443"
      ]
     },
     "execution_count": 69,
     "metadata": {},
     "output_type": "execute_result"
    }
   ],
   "source": [
    "find_mean(acc_array)"
   ]
  },
  {
   "cell_type": "markdown",
   "metadata": {},
   "source": [
    "# Weekly Plays"
   ]
  },
  {
   "cell_type": "code",
   "execution_count": 70,
   "metadata": {},
   "outputs": [
    {
     "data": {
      "text/html": [
       "<div>\n",
       "<style scoped>\n",
       "    .dataframe tbody tr th:only-of-type {\n",
       "        vertical-align: middle;\n",
       "    }\n",
       "\n",
       "    .dataframe tbody tr th {\n",
       "        vertical-align: top;\n",
       "    }\n",
       "\n",
       "    .dataframe thead th {\n",
       "        text-align: right;\n",
       "    }\n",
       "</style>\n",
       "<table border=\"1\" class=\"dataframe\">\n",
       "  <thead>\n",
       "    <tr style=\"text-align: right;\">\n",
       "      <th></th>\n",
       "      <th>Game ID</th>\n",
       "      <th>Season</th>\n",
       "      <th>Week</th>\n",
       "      <th>Home</th>\n",
       "      <th>Away</th>\n",
       "      <th>Start Time</th>\n",
       "      <th>Day</th>\n",
       "      <th>Total Line</th>\n",
       "      <th>Under Odds</th>\n",
       "    </tr>\n",
       "  </thead>\n",
       "  <tbody>\n",
       "    <tr>\n",
       "      <th>6785</th>\n",
       "      <td>2024_06_JAX_CHI</td>\n",
       "      <td>2024</td>\n",
       "      <td>6</td>\n",
       "      <td>CHI</td>\n",
       "      <td>JAX</td>\n",
       "      <td>09:30</td>\n",
       "      <td>Sunday</td>\n",
       "      <td>44.5</td>\n",
       "      <td>-110.0</td>\n",
       "    </tr>\n",
       "    <tr>\n",
       "      <th>6787</th>\n",
       "      <td>2024_06_ARI_GB</td>\n",
       "      <td>2024</td>\n",
       "      <td>6</td>\n",
       "      <td>GB</td>\n",
       "      <td>ARI</td>\n",
       "      <td>13:00</td>\n",
       "      <td>Sunday</td>\n",
       "      <td>47.0</td>\n",
       "      <td>-108.0</td>\n",
       "    </tr>\n",
       "    <tr>\n",
       "      <th>6788</th>\n",
       "      <td>2024_06_HOU_NE</td>\n",
       "      <td>2024</td>\n",
       "      <td>6</td>\n",
       "      <td>NE</td>\n",
       "      <td>HOU</td>\n",
       "      <td>13:00</td>\n",
       "      <td>Sunday</td>\n",
       "      <td>37.5</td>\n",
       "      <td>-110.0</td>\n",
       "    </tr>\n",
       "    <tr>\n",
       "      <th>6789</th>\n",
       "      <td>2024_06_TB_NO</td>\n",
       "      <td>2024</td>\n",
       "      <td>6</td>\n",
       "      <td>NO</td>\n",
       "      <td>TB</td>\n",
       "      <td>13:00</td>\n",
       "      <td>Sunday</td>\n",
       "      <td>42.0</td>\n",
       "      <td>-110.0</td>\n",
       "    </tr>\n",
       "    <tr>\n",
       "      <th>6791</th>\n",
       "      <td>2024_06_IND_TEN</td>\n",
       "      <td>2024</td>\n",
       "      <td>6</td>\n",
       "      <td>TEN</td>\n",
       "      <td>IND</td>\n",
       "      <td>13:00</td>\n",
       "      <td>Sunday</td>\n",
       "      <td>43.0</td>\n",
       "      <td>-110.0</td>\n",
       "    </tr>\n",
       "    <tr>\n",
       "      <th>6792</th>\n",
       "      <td>2024_06_LAC_DEN</td>\n",
       "      <td>2024</td>\n",
       "      <td>6</td>\n",
       "      <td>DEN</td>\n",
       "      <td>LAC</td>\n",
       "      <td>16:05</td>\n",
       "      <td>Sunday</td>\n",
       "      <td>35.5</td>\n",
       "      <td>-108.0</td>\n",
       "    </tr>\n",
       "    <tr>\n",
       "      <th>6793</th>\n",
       "      <td>2024_06_PIT_LV</td>\n",
       "      <td>2024</td>\n",
       "      <td>6</td>\n",
       "      <td>LV</td>\n",
       "      <td>PIT</td>\n",
       "      <td>16:05</td>\n",
       "      <td>Sunday</td>\n",
       "      <td>36.5</td>\n",
       "      <td>-108.0</td>\n",
       "    </tr>\n",
       "    <tr>\n",
       "      <th>6794</th>\n",
       "      <td>2024_06_ATL_CAR</td>\n",
       "      <td>2024</td>\n",
       "      <td>6</td>\n",
       "      <td>CAR</td>\n",
       "      <td>ATL</td>\n",
       "      <td>16:25</td>\n",
       "      <td>Sunday</td>\n",
       "      <td>47.0</td>\n",
       "      <td>-112.0</td>\n",
       "    </tr>\n",
       "    <tr>\n",
       "      <th>6795</th>\n",
       "      <td>2024_06_DET_DAL</td>\n",
       "      <td>2024</td>\n",
       "      <td>6</td>\n",
       "      <td>DAL</td>\n",
       "      <td>DET</td>\n",
       "      <td>16:25</td>\n",
       "      <td>Sunday</td>\n",
       "      <td>52.5</td>\n",
       "      <td>-110.0</td>\n",
       "    </tr>\n",
       "    <tr>\n",
       "      <th>6796</th>\n",
       "      <td>2024_06_CIN_NYG</td>\n",
       "      <td>2024</td>\n",
       "      <td>6</td>\n",
       "      <td>NYG</td>\n",
       "      <td>CIN</td>\n",
       "      <td>20:20</td>\n",
       "      <td>Sunday</td>\n",
       "      <td>47.0</td>\n",
       "      <td>-112.0</td>\n",
       "    </tr>\n",
       "  </tbody>\n",
       "</table>\n",
       "</div>"
      ],
      "text/plain": [
       "              Game ID  Season  Week Home Away Start Time     Day  Total Line  \\\n",
       "6785  2024_06_JAX_CHI    2024     6  CHI  JAX      09:30  Sunday        44.5   \n",
       "6787   2024_06_ARI_GB    2024     6   GB  ARI      13:00  Sunday        47.0   \n",
       "6788   2024_06_HOU_NE    2024     6   NE  HOU      13:00  Sunday        37.5   \n",
       "6789    2024_06_TB_NO    2024     6   NO   TB      13:00  Sunday        42.0   \n",
       "6791  2024_06_IND_TEN    2024     6  TEN  IND      13:00  Sunday        43.0   \n",
       "6792  2024_06_LAC_DEN    2024     6  DEN  LAC      16:05  Sunday        35.5   \n",
       "6793   2024_06_PIT_LV    2024     6   LV  PIT      16:05  Sunday        36.5   \n",
       "6794  2024_06_ATL_CAR    2024     6  CAR  ATL      16:25  Sunday        47.0   \n",
       "6795  2024_06_DET_DAL    2024     6  DAL  DET      16:25  Sunday        52.5   \n",
       "6796  2024_06_CIN_NYG    2024     6  NYG  CIN      20:20  Sunday        47.0   \n",
       "\n",
       "      Under Odds  \n",
       "6785      -110.0  \n",
       "6787      -108.0  \n",
       "6788      -110.0  \n",
       "6789      -110.0  \n",
       "6791      -110.0  \n",
       "6792      -108.0  \n",
       "6793      -108.0  \n",
       "6794      -112.0  \n",
       "6795      -110.0  \n",
       "6796      -112.0  "
      ]
     },
     "execution_count": 70,
     "metadata": {},
     "output_type": "execute_result"
    }
   ],
   "source": [
    "X_train, y_train, X_test, y_test = data_split(allSeasons, features, year, week, day)\n",
    "\n",
    "prediction_df = rf_model(X_train, y_train, X_test)\n",
    "\n",
    "# Predicted Plays log\n",
    "nextPlays = pd.merge(right=prediction_df, left=currSeason, right_index=True, left_index=True, how='left')\n",
    "nextPlays = nextPlays[nextPlays.Prediction == 1]\n",
    "nextPlays = nextPlays[['game_id', 'season_x', 'week_x', 'home_team_x', 'away_team_x', 'gametime_x', 'weekday_x', 'total_line_x', 'under_odds_x']]\n",
    "nextPlays.columns = ['Game ID', 'Season', 'Week', 'Home', 'Away', 'Start Time', 'Day', 'Total Line', 'Under Odds']\n",
    "nextPlays"
   ]
  }
 ],
 "metadata": {
  "kernelspec": {
   "display_name": "Python 3",
   "language": "python",
   "name": "python3"
  },
  "language_info": {
   "codemirror_mode": {
    "name": "ipython",
    "version": 3
   },
   "file_extension": ".py",
   "mimetype": "text/x-python",
   "name": "python",
   "nbconvert_exporter": "python",
   "pygments_lexer": "ipython3",
   "version": "3.11.7"
  }
 },
 "nbformat": 4,
 "nbformat_minor": 2
}
