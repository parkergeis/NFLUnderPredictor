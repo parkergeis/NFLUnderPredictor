{
 "cells": [
  {
   "cell_type": "code",
   "execution_count": 1,
   "metadata": {},
   "outputs": [],
   "source": [
    "import numpy as np\n",
    "import pandas as pd\n",
    "import xgboost as xgb\n",
    "from sklearn.feature_selection import SelectFromModel\n",
    "from sklearn.model_selection import GridSearchCV, train_test_split\n",
    "from sklearn.metrics import accuracy_score, precision_score\n",
    "import warnings\n",
    "from helper_functions import data_load, data_split, xgb_model, data_split_tune\n",
    "\n",
    "warnings.filterwarnings('ignore')\n",
    "pd.set_option(\"display.max_columns\", None)\n",
    "pd.set_option('display.max_colwidth', None)"
   ]
  },
  {
   "cell_type": "code",
   "execution_count": 2,
   "metadata": {},
   "outputs": [],
   "source": [
    "year = 2024\n",
    "week = 6\n",
    "day = 0 # 0-Sun, 1-Mon, 4-Thu"
   ]
  },
  {
   "cell_type": "code",
   "execution_count": 3,
   "metadata": {},
   "outputs": [],
   "source": [
    "allSeasons, currSeason = data_load(year, week)"
   ]
  },
  {
   "cell_type": "code",
   "execution_count": 4,
   "metadata": {},
   "outputs": [],
   "source": [
    "features = ['season', 'week', 'weekday', 'gametime', 'away_team', 'home_team', 'away_rest', 'home_rest', 'away_moneyline', 'home_moneyline', 'spread_line', 'total_line', 'under_odds', 'over_odds', 'div_game']"
   ]
  },
  {
   "cell_type": "markdown",
   "metadata": {},
   "source": [
    "# Model Tuning"
   ]
  },
  {
   "cell_type": "code",
   "execution_count": 5,
   "metadata": {},
   "outputs": [
    {
     "name": "stdout",
     "output_type": "stream",
     "text": [
      "Fitting 3 folds for each of 243 candidates, totalling 729 fits\n"
     ]
    }
   ],
   "source": [
    "X_train, y_train = data_split_tune(allSeasons, features)\n",
    "\n",
    "param_grid = {\n",
    "    'max_depth': [3, 6, 9],\n",
    "    'learning_rate': [0.01, 0.1, 0.2],\n",
    "    'n_estimators': [100, 500, 1000],\n",
    "    'reg_alpha': [0, 0.1, 0.5],\n",
    "    'reg_lambda': [0.1, 0.5, 1.0]\n",
    "}\n",
    "\n",
    "xgb_clf = xgb.XGBClassifier(use_label_encoder=False, eval_metric='logloss')\n",
    "grid_search = GridSearchCV(estimator=xgb_clf, param_grid=param_grid, cv=3, scoring='roc_auc', verbose=1)\n",
    "grid_search.fit(X_train, y_train)\n",
    "\n",
    "print(\"Best parameters found: \", grid_search.best_params_)\n",
    "print(\"Best cross-validation score: \", grid_search.best_score_)"
   ]
  },
  {
   "cell_type": "markdown",
   "metadata": {},
   "source": [
    "# Accuracy Testing"
   ]
  },
  {
   "cell_type": "code",
   "execution_count": null,
   "metadata": {},
   "outputs": [],
   "source": [
    "# Model building\n",
    "precis_array = []\n",
    "acc_array = []\n",
    "for i in range(1, 11):\n",
    "    X_train, X_test, y_train, y_test = train_test_split(X, y, test_size=0.25, random_state=i)\n",
    "\n",
    "    model = xgb.XGBClassifier(\n",
    "        use_label_encoder=False,\n",
    "        eval_metric='logloss',\n",
    "        **grid_search.best_params_\n",
    "    )\n",
    "    # Evaluation set\n",
    "    X_train, X_val, y_train, y_val = train_test_split(X_train, y_train, test_size=0.2, random_state=i)\n",
    "\n",
    "    model.fit(\n",
    "        X_train, y_train,\n",
    "        eval_set=[(X_val, y_val)],\n",
    "        verbose=False\n",
    "    )\n",
    "\n",
    "    # Predict probabilities and classes on selected features\n",
    "    y_pred_proba = model.predict_proba(X_test)[:, 1]\n",
    "    y_pred = model.predict(X_test)\n",
    "    acc = accuracy_score(y_test, y_pred)\n",
    "    precis = precision_score(y_test, y_pred)\n",
    "    precis_array.append(precis)\n",
    "    acc_array.append(acc)"
   ]
  },
  {
   "cell_type": "code",
   "execution_count": null,
   "metadata": {},
   "outputs": [
    {
     "data": {
      "text/plain": [
       "0.5716737603404856"
      ]
     },
     "execution_count": 8,
     "metadata": {},
     "output_type": "execute_result"
    }
   ],
   "source": [
    "def find_mean(array):\n",
    "    if len(array) == 0:\n",
    "        return 0  # To handle empty arrays\n",
    "    return sum(array) / len(array)\n",
    "find_mean(precis_array)"
   ]
  },
  {
   "cell_type": "code",
   "execution_count": null,
   "metadata": {},
   "outputs": [
    {
     "data": {
      "text/plain": [
       "0.49777777777777776"
      ]
     },
     "execution_count": 9,
     "metadata": {},
     "output_type": "execute_result"
    }
   ],
   "source": [
    "find_mean(acc_array)"
   ]
  },
  {
   "cell_type": "markdown",
   "metadata": {},
   "source": [
    "# Weekly Plays"
   ]
  },
  {
   "cell_type": "code",
   "execution_count": null,
   "metadata": {},
   "outputs": [
    {
     "data": {
      "text/html": [
       "<div>\n",
       "<style scoped>\n",
       "    .dataframe tbody tr th:only-of-type {\n",
       "        vertical-align: middle;\n",
       "    }\n",
       "\n",
       "    .dataframe tbody tr th {\n",
       "        vertical-align: top;\n",
       "    }\n",
       "\n",
       "    .dataframe thead th {\n",
       "        text-align: right;\n",
       "    }\n",
       "</style>\n",
       "<table border=\"1\" class=\"dataframe\">\n",
       "  <thead>\n",
       "    <tr style=\"text-align: right;\">\n",
       "      <th></th>\n",
       "      <th>Game ID</th>\n",
       "      <th>Season</th>\n",
       "      <th>Week</th>\n",
       "      <th>Home</th>\n",
       "      <th>Away</th>\n",
       "      <th>Start Time</th>\n",
       "      <th>Day</th>\n",
       "      <th>Total Line</th>\n",
       "      <th>Under Odds</th>\n",
       "      <th>Under Probability</th>\n",
       "    </tr>\n",
       "  </thead>\n",
       "  <tbody>\n",
       "    <tr>\n",
       "      <th>6785</th>\n",
       "      <td>2024_06_JAX_CHI</td>\n",
       "      <td>2024</td>\n",
       "      <td>6</td>\n",
       "      <td>CHI</td>\n",
       "      <td>JAX</td>\n",
       "      <td>09:30</td>\n",
       "      <td>Sunday</td>\n",
       "      <td>44.5</td>\n",
       "      <td>-108.0</td>\n",
       "      <td>0.451535</td>\n",
       "    </tr>\n",
       "    <tr>\n",
       "      <th>6786</th>\n",
       "      <td>2024_06_WAS_BAL</td>\n",
       "      <td>2024</td>\n",
       "      <td>6</td>\n",
       "      <td>BAL</td>\n",
       "      <td>WAS</td>\n",
       "      <td>13:00</td>\n",
       "      <td>Sunday</td>\n",
       "      <td>51.5</td>\n",
       "      <td>-110.0</td>\n",
       "      <td>0.459519</td>\n",
       "    </tr>\n",
       "    <tr>\n",
       "      <th>6787</th>\n",
       "      <td>2024_06_ARI_GB</td>\n",
       "      <td>2024</td>\n",
       "      <td>6</td>\n",
       "      <td>GB</td>\n",
       "      <td>ARI</td>\n",
       "      <td>13:00</td>\n",
       "      <td>Sunday</td>\n",
       "      <td>47.0</td>\n",
       "      <td>-108.0</td>\n",
       "      <td>0.501186</td>\n",
       "    </tr>\n",
       "    <tr>\n",
       "      <th>6788</th>\n",
       "      <td>2024_06_HOU_NE</td>\n",
       "      <td>2024</td>\n",
       "      <td>6</td>\n",
       "      <td>NE</td>\n",
       "      <td>HOU</td>\n",
       "      <td>13:00</td>\n",
       "      <td>Sunday</td>\n",
       "      <td>37.5</td>\n",
       "      <td>-110.0</td>\n",
       "      <td>0.432707</td>\n",
       "    </tr>\n",
       "    <tr>\n",
       "      <th>6789</th>\n",
       "      <td>2024_06_TB_NO</td>\n",
       "      <td>2024</td>\n",
       "      <td>6</td>\n",
       "      <td>NO</td>\n",
       "      <td>TB</td>\n",
       "      <td>13:00</td>\n",
       "      <td>Sunday</td>\n",
       "      <td>42.5</td>\n",
       "      <td>-112.0</td>\n",
       "      <td>0.673949</td>\n",
       "    </tr>\n",
       "    <tr>\n",
       "      <th>6790</th>\n",
       "      <td>2024_06_CLE_PHI</td>\n",
       "      <td>2024</td>\n",
       "      <td>6</td>\n",
       "      <td>PHI</td>\n",
       "      <td>CLE</td>\n",
       "      <td>13:00</td>\n",
       "      <td>Sunday</td>\n",
       "      <td>42.5</td>\n",
       "      <td>-112.0</td>\n",
       "      <td>0.471201</td>\n",
       "    </tr>\n",
       "    <tr>\n",
       "      <th>6791</th>\n",
       "      <td>2024_06_IND_TEN</td>\n",
       "      <td>2024</td>\n",
       "      <td>6</td>\n",
       "      <td>TEN</td>\n",
       "      <td>IND</td>\n",
       "      <td>13:00</td>\n",
       "      <td>Sunday</td>\n",
       "      <td>43.0</td>\n",
       "      <td>-112.0</td>\n",
       "      <td>0.528771</td>\n",
       "    </tr>\n",
       "    <tr>\n",
       "      <th>6792</th>\n",
       "      <td>2024_06_LAC_DEN</td>\n",
       "      <td>2024</td>\n",
       "      <td>6</td>\n",
       "      <td>DEN</td>\n",
       "      <td>LAC</td>\n",
       "      <td>16:05</td>\n",
       "      <td>Sunday</td>\n",
       "      <td>35.5</td>\n",
       "      <td>-108.0</td>\n",
       "      <td>0.453427</td>\n",
       "    </tr>\n",
       "    <tr>\n",
       "      <th>6793</th>\n",
       "      <td>2024_06_PIT_LV</td>\n",
       "      <td>2024</td>\n",
       "      <td>6</td>\n",
       "      <td>LV</td>\n",
       "      <td>PIT</td>\n",
       "      <td>16:05</td>\n",
       "      <td>Sunday</td>\n",
       "      <td>36.5</td>\n",
       "      <td>-112.0</td>\n",
       "      <td>0.553562</td>\n",
       "    </tr>\n",
       "    <tr>\n",
       "      <th>6794</th>\n",
       "      <td>2024_06_ATL_CAR</td>\n",
       "      <td>2024</td>\n",
       "      <td>6</td>\n",
       "      <td>CAR</td>\n",
       "      <td>ATL</td>\n",
       "      <td>16:25</td>\n",
       "      <td>Sunday</td>\n",
       "      <td>46.0</td>\n",
       "      <td>-108.0</td>\n",
       "      <td>0.451669</td>\n",
       "    </tr>\n",
       "    <tr>\n",
       "      <th>6795</th>\n",
       "      <td>2024_06_DET_DAL</td>\n",
       "      <td>2024</td>\n",
       "      <td>6</td>\n",
       "      <td>DAL</td>\n",
       "      <td>DET</td>\n",
       "      <td>16:25</td>\n",
       "      <td>Sunday</td>\n",
       "      <td>52.5</td>\n",
       "      <td>-110.0</td>\n",
       "      <td>0.440684</td>\n",
       "    </tr>\n",
       "    <tr>\n",
       "      <th>6796</th>\n",
       "      <td>2024_06_CIN_NYG</td>\n",
       "      <td>2024</td>\n",
       "      <td>6</td>\n",
       "      <td>NYG</td>\n",
       "      <td>CIN</td>\n",
       "      <td>20:20</td>\n",
       "      <td>Sunday</td>\n",
       "      <td>47.0</td>\n",
       "      <td>-112.0</td>\n",
       "      <td>0.547427</td>\n",
       "    </tr>\n",
       "  </tbody>\n",
       "</table>\n",
       "</div>"
      ],
      "text/plain": [
       "              Game ID  Season  Week Home Away Start Time     Day  Total Line  \\\n",
       "6785  2024_06_JAX_CHI    2024     6  CHI  JAX      09:30  Sunday        44.5   \n",
       "6786  2024_06_WAS_BAL    2024     6  BAL  WAS      13:00  Sunday        51.5   \n",
       "6787   2024_06_ARI_GB    2024     6   GB  ARI      13:00  Sunday        47.0   \n",
       "6788   2024_06_HOU_NE    2024     6   NE  HOU      13:00  Sunday        37.5   \n",
       "6789    2024_06_TB_NO    2024     6   NO   TB      13:00  Sunday        42.5   \n",
       "6790  2024_06_CLE_PHI    2024     6  PHI  CLE      13:00  Sunday        42.5   \n",
       "6791  2024_06_IND_TEN    2024     6  TEN  IND      13:00  Sunday        43.0   \n",
       "6792  2024_06_LAC_DEN    2024     6  DEN  LAC      16:05  Sunday        35.5   \n",
       "6793   2024_06_PIT_LV    2024     6   LV  PIT      16:05  Sunday        36.5   \n",
       "6794  2024_06_ATL_CAR    2024     6  CAR  ATL      16:25  Sunday        46.0   \n",
       "6795  2024_06_DET_DAL    2024     6  DAL  DET      16:25  Sunday        52.5   \n",
       "6796  2024_06_CIN_NYG    2024     6  NYG  CIN      20:20  Sunday        47.0   \n",
       "\n",
       "      Under Odds  Under Probability  \n",
       "6785      -108.0           0.451535  \n",
       "6786      -110.0           0.459519  \n",
       "6787      -108.0           0.501186  \n",
       "6788      -110.0           0.432707  \n",
       "6789      -112.0           0.673949  \n",
       "6790      -112.0           0.471201  \n",
       "6791      -112.0           0.528771  \n",
       "6792      -108.0           0.453427  \n",
       "6793      -112.0           0.553562  \n",
       "6794      -108.0           0.451669  \n",
       "6795      -110.0           0.440684  \n",
       "6796      -112.0           0.547427  "
      ]
     },
     "execution_count": 14,
     "metadata": {},
     "output_type": "execute_result"
    }
   ],
   "source": [
    "X_train, y_train, X_test, y_test = data_split(allSeasons, features, year, week, day)\n",
    "\n",
    "xgb_model(X_train, y_train, X_test, grid_search.best_params_)\n",
    "\n",
    "# Predicted Plays log\n",
    "nextPlays = pd.merge(right=X_test, left=currSeason, right_index=True, left_index=True, how='left')\n",
    "nextPlays = nextPlays[nextPlays.Prediction >= 0]\n",
    "nextPlays = nextPlays[['game_id', 'season_x', 'week_x', 'home_team_x', 'away_team_x', 'gametime_x', 'weekday_x', 'total_line_x', 'under_odds_x', 'Under Probability']]\n",
    "nextPlays.columns = ['Game ID', 'Season', 'Week', 'Home', 'Away', 'Start Time', 'Day', 'Total Line', 'Under Odds', 'Under Probability']\n",
    "nextPlays"
   ]
  }
 ],
 "metadata": {
  "kernelspec": {
   "display_name": "Python 3",
   "language": "python",
   "name": "python3"
  },
  "language_info": {
   "codemirror_mode": {
    "name": "ipython",
    "version": 3
   },
   "file_extension": ".py",
   "mimetype": "text/x-python",
   "name": "python",
   "nbconvert_exporter": "python",
   "pygments_lexer": "ipython3",
   "version": "3.11.7"
  }
 },
 "nbformat": 4,
 "nbformat_minor": 2
}
