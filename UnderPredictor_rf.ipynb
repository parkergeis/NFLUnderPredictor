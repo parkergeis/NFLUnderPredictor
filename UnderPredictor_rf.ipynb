{
 "cells": [
  {
   "cell_type": "code",
   "execution_count": 2,
   "metadata": {},
   "outputs": [],
   "source": [
    "import numpy as np\n",
    "import pandas as pd\n",
    "from sklearn.metrics import accuracy_score, classification_report, confusion_matrix, ConfusionMatrixDisplay\n",
    "from sklearn.model_selection import train_test_split\n",
    "\n",
    "from helper_functions import data_load, data_split, rf_model, google_export\n",
    "import nfl_data_py as nfl\n",
    "import warnings\n",
    "warnings.filterwarnings('ignore')\n",
    "pd.set_option(\"display.max_columns\", None)\n",
    "pd.set_option('display.max_colwidth', None)"
   ]
  },
  {
   "cell_type": "code",
   "execution_count": 3,
   "metadata": {},
   "outputs": [],
   "source": [
    "year = 2024\n",
    "week = 5\n",
    "day = 0 # 0-Sun, 1-Mon, 4-Thu"
   ]
  },
  {
   "cell_type": "code",
   "execution_count": 4,
   "metadata": {},
   "outputs": [],
   "source": [
    "allSeasons, currSeason = data_load(year, week)"
   ]
  },
  {
   "cell_type": "code",
   "execution_count": 5,
   "metadata": {},
   "outputs": [],
   "source": [
    "features = allSeasons.drop(['Under', 'Push', 'gameday', 'game_id', 'surface', 'home_score', 'away_score', 'result', 'total', 'overtime', 'old_game_id', 'gsis', 'nfl_detail_id', 'pfr', 'pff', 'espn', 'ftn', 'away_qb_id', 'home_qb_id', 'away_qb_name', 'home_qb_name', 'away_coach', 'home_coach', 'referee', 'stadium', 'wind', 'temp'], axis=1).columns"
   ]
  },
  {
   "cell_type": "markdown",
   "metadata": {},
   "source": [
    "# Accuracy Testing"
   ]
  },
  {
   "cell_type": "code",
   "execution_count": 6,
   "metadata": {},
   "outputs": [],
   "source": [
    "# Model building\n",
    "df_acc = allSeasons.dropna()\n",
    "df_acc.reset_index(drop=True, inplace=True)\n",
    "y = df_acc.Under\n",
    "X = df_acc[features]\n",
    "\n",
    "precis_array = []\n",
    "acc_array = []\n",
    "from sklearn.ensemble import RandomForestClassifier\n",
    "from sklearn.metrics import accuracy_score, precision_score\n",
    "for i in range(1, 26):\n",
    "    X_train, X_test, y_train, y_test = train_test_split(X, y, test_size=0.25, random_state=i, stratify=y)\n",
    "    for j in range(1,11):\n",
    "        rf = RandomForestClassifier(n_estimators=50, min_samples_split=10, random_state=j)\n",
    "        rf.fit(X_train, y_train)\n",
    "        preds = rf.predict(X_test)\n",
    "        acc = accuracy_score(y_test, preds)\n",
    "        precis = precision_score(y_test, preds)\n",
    "        precis_array.append(precis)\n",
    "        acc_array.append(acc)\n",
    "# combined = pd.DataFrame(dict(actual=y_test, prediction=preds))\n",
    "# pd.crosstab(index=combined['actual'], columns=combined['prediction'])"
   ]
  },
  {
   "cell_type": "code",
   "execution_count": 7,
   "metadata": {},
   "outputs": [
    {
     "data": {
      "text/plain": [
       "0.596502913317647"
      ]
     },
     "execution_count": 7,
     "metadata": {},
     "output_type": "execute_result"
    }
   ],
   "source": [
    "def find_mean(array):\n",
    "    if len(array) == 0:\n",
    "        return 0  # To handle empty arrays\n",
    "    return sum(array) / len(array)\n",
    "find_mean(precis_array)"
   ]
  },
  {
   "cell_type": "code",
   "execution_count": 8,
   "metadata": {},
   "outputs": [
    {
     "data": {
      "text/plain": [
       "0.5502222222222222"
      ]
     },
     "execution_count": 8,
     "metadata": {},
     "output_type": "execute_result"
    }
   ],
   "source": [
    "find_mean(acc_array)"
   ]
  },
  {
   "cell_type": "markdown",
   "metadata": {},
   "source": [
    "# Weekly Plays"
   ]
  },
  {
   "cell_type": "code",
   "execution_count": 9,
   "metadata": {},
   "outputs": [
    {
     "data": {
      "text/html": [
       "<div>\n",
       "<style scoped>\n",
       "    .dataframe tbody tr th:only-of-type {\n",
       "        vertical-align: middle;\n",
       "    }\n",
       "\n",
       "    .dataframe tbody tr th {\n",
       "        vertical-align: top;\n",
       "    }\n",
       "\n",
       "    .dataframe thead th {\n",
       "        text-align: right;\n",
       "    }\n",
       "</style>\n",
       "<table border=\"1\" class=\"dataframe\">\n",
       "  <thead>\n",
       "    <tr style=\"text-align: right;\">\n",
       "      <th></th>\n",
       "      <th>Game ID</th>\n",
       "      <th>Season</th>\n",
       "      <th>Week</th>\n",
       "      <th>Home</th>\n",
       "      <th>Away</th>\n",
       "      <th>Start Time</th>\n",
       "      <th>Day</th>\n",
       "      <th>Total Line</th>\n",
       "      <th>Under Odds</th>\n",
       "    </tr>\n",
       "  </thead>\n",
       "  <tbody>\n",
       "    <tr>\n",
       "      <th>6771</th>\n",
       "      <td>2024_05_NYJ_MIN</td>\n",
       "      <td>2024</td>\n",
       "      <td>5</td>\n",
       "      <td>MIN</td>\n",
       "      <td>NYJ</td>\n",
       "      <td>09:30</td>\n",
       "      <td>Sunday</td>\n",
       "      <td>42.0</td>\n",
       "      <td>-112.0</td>\n",
       "    </tr>\n",
       "    <tr>\n",
       "      <th>6772</th>\n",
       "      <td>2024_05_CAR_CHI</td>\n",
       "      <td>2024</td>\n",
       "      <td>5</td>\n",
       "      <td>CHI</td>\n",
       "      <td>CAR</td>\n",
       "      <td>13:00</td>\n",
       "      <td>Sunday</td>\n",
       "      <td>40.0</td>\n",
       "      <td>-108.0</td>\n",
       "    </tr>\n",
       "    <tr>\n",
       "      <th>6773</th>\n",
       "      <td>2024_05_BAL_CIN</td>\n",
       "      <td>2024</td>\n",
       "      <td>5</td>\n",
       "      <td>CIN</td>\n",
       "      <td>BAL</td>\n",
       "      <td>13:00</td>\n",
       "      <td>Sunday</td>\n",
       "      <td>48.5</td>\n",
       "      <td>-112.0</td>\n",
       "    </tr>\n",
       "    <tr>\n",
       "      <th>6774</th>\n",
       "      <td>2024_05_BUF_HOU</td>\n",
       "      <td>2024</td>\n",
       "      <td>5</td>\n",
       "      <td>HOU</td>\n",
       "      <td>BUF</td>\n",
       "      <td>13:00</td>\n",
       "      <td>Sunday</td>\n",
       "      <td>48.0</td>\n",
       "      <td>-110.0</td>\n",
       "    </tr>\n",
       "    <tr>\n",
       "      <th>6775</th>\n",
       "      <td>2024_05_IND_JAX</td>\n",
       "      <td>2024</td>\n",
       "      <td>5</td>\n",
       "      <td>JAX</td>\n",
       "      <td>IND</td>\n",
       "      <td>13:00</td>\n",
       "      <td>Sunday</td>\n",
       "      <td>45.0</td>\n",
       "      <td>-110.0</td>\n",
       "    </tr>\n",
       "    <tr>\n",
       "      <th>6778</th>\n",
       "      <td>2024_05_LV_DEN</td>\n",
       "      <td>2024</td>\n",
       "      <td>5</td>\n",
       "      <td>DEN</td>\n",
       "      <td>LV</td>\n",
       "      <td>16:05</td>\n",
       "      <td>Sunday</td>\n",
       "      <td>36.0</td>\n",
       "      <td>-108.0</td>\n",
       "    </tr>\n",
       "    <tr>\n",
       "      <th>6779</th>\n",
       "      <td>2024_05_ARI_SF</td>\n",
       "      <td>2024</td>\n",
       "      <td>5</td>\n",
       "      <td>SF</td>\n",
       "      <td>ARI</td>\n",
       "      <td>16:05</td>\n",
       "      <td>Sunday</td>\n",
       "      <td>48.5</td>\n",
       "      <td>-108.0</td>\n",
       "    </tr>\n",
       "    <tr>\n",
       "      <th>6780</th>\n",
       "      <td>2024_05_GB_LA</td>\n",
       "      <td>2024</td>\n",
       "      <td>5</td>\n",
       "      <td>LA</td>\n",
       "      <td>GB</td>\n",
       "      <td>16:25</td>\n",
       "      <td>Sunday</td>\n",
       "      <td>49.5</td>\n",
       "      <td>-112.0</td>\n",
       "    </tr>\n",
       "    <tr>\n",
       "      <th>6782</th>\n",
       "      <td>2024_05_DAL_PIT</td>\n",
       "      <td>2024</td>\n",
       "      <td>5</td>\n",
       "      <td>PIT</td>\n",
       "      <td>DAL</td>\n",
       "      <td>20:20</td>\n",
       "      <td>Sunday</td>\n",
       "      <td>43.5</td>\n",
       "      <td>-112.0</td>\n",
       "    </tr>\n",
       "  </tbody>\n",
       "</table>\n",
       "</div>"
      ],
      "text/plain": [
       "              Game ID  Season  Week Home Away Start Time     Day  Total Line  \\\n",
       "6771  2024_05_NYJ_MIN    2024     5  MIN  NYJ      09:30  Sunday        42.0   \n",
       "6772  2024_05_CAR_CHI    2024     5  CHI  CAR      13:00  Sunday        40.0   \n",
       "6773  2024_05_BAL_CIN    2024     5  CIN  BAL      13:00  Sunday        48.5   \n",
       "6774  2024_05_BUF_HOU    2024     5  HOU  BUF      13:00  Sunday        48.0   \n",
       "6775  2024_05_IND_JAX    2024     5  JAX  IND      13:00  Sunday        45.0   \n",
       "6778   2024_05_LV_DEN    2024     5  DEN   LV      16:05  Sunday        36.0   \n",
       "6779   2024_05_ARI_SF    2024     5   SF  ARI      16:05  Sunday        48.5   \n",
       "6780    2024_05_GB_LA    2024     5   LA   GB      16:25  Sunday        49.5   \n",
       "6782  2024_05_DAL_PIT    2024     5  PIT  DAL      20:20  Sunday        43.5   \n",
       "\n",
       "      Under Odds  \n",
       "6771      -112.0  \n",
       "6772      -108.0  \n",
       "6773      -112.0  \n",
       "6774      -110.0  \n",
       "6775      -110.0  \n",
       "6778      -108.0  \n",
       "6779      -108.0  \n",
       "6780      -112.0  \n",
       "6782      -112.0  "
      ]
     },
     "execution_count": 9,
     "metadata": {},
     "output_type": "execute_result"
    }
   ],
   "source": [
    "X_train, y_train, X_test, y_test = data_split(allSeasons, features, year, week, day)\n",
    "\n",
    "prediction_df = rf_model(X_train, y_train, X_test)\n",
    "\n",
    "# Predicted Plays log\n",
    "nextPlays = pd.merge(right=prediction_df, left=currSeason, right_index=True, left_index=True, how='left')\n",
    "nextPlays = nextPlays[nextPlays.Prediction == 1]\n",
    "nextPlays = nextPlays[['game_id', 'season_x', 'week_x', 'home_team', 'away_team', 'gametime_x', 'weekday_x', 'total_line_x', 'under_odds_x']]\n",
    "nextPlays.columns = ['Game ID', 'Season', 'Week', 'Home', 'Away', 'Start Time', 'Day', 'Total Line', 'Under Odds']\n",
    "nextPlays"
   ]
  }
 ],
 "metadata": {
  "kernelspec": {
   "display_name": "Python 3",
   "language": "python",
   "name": "python3"
  },
  "language_info": {
   "codemirror_mode": {
    "name": "ipython",
    "version": 3
   },
   "file_extension": ".py",
   "mimetype": "text/x-python",
   "name": "python",
   "nbconvert_exporter": "python",
   "pygments_lexer": "ipython3",
   "version": "3.11.7"
  }
 },
 "nbformat": 4,
 "nbformat_minor": 2
}
