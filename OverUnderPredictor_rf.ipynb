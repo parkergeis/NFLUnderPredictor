{
 "cells": [
  {
   "cell_type": "code",
   "execution_count": 164,
   "metadata": {},
   "outputs": [],
   "source": [
    "import numpy as np\n",
    "import pandas as pd\n",
    "import matplotlib.pyplot as plt\n",
    "from sklearn.neighbors import KNeighborsClassifier, NearestNeighbors, LocalOutlierFactor\n",
    "from sklearn.metrics import accuracy_score, classification_report, confusion_matrix, ConfusionMatrixDisplay\n",
    "from sklearn.pipeline import Pipeline\n",
    "from sklearn.preprocessing import StandardScaler\n",
    "from sklearn.model_selection import GridSearchCV, train_test_split\n",
    "from sklearn.feature_selection import SelectKBest, f_classif\n",
    "import nfl_data_py as nfl\n",
    "import datetime as dt\n",
    "import warnings\n",
    "warnings.filterwarnings('ignore')\n",
    "today = dt.date.today()\n",
    "year = today.year\n",
    "pd.set_option(\"display.max_columns\", None)\n",
    "pd.set_option('display.max_colwidth', None)"
   ]
  },
  {
   "cell_type": "code",
   "execution_count": 165,
   "metadata": {},
   "outputs": [],
   "source": [
    "df = nfl.import_schedules(years=range(year-3,year))"
   ]
  },
  {
   "cell_type": "code",
   "execution_count": 166,
   "metadata": {},
   "outputs": [],
   "source": [
    "# Prepare dataframe by dropping irrelevant predictors and formatting columns for KNN\n",
    "df['Under'] = np.where(df['total'] < df['total_line'], 1, 0)\n",
    "df['Push'] = np.where(df['total'] == df['total_line'], 1, 0)\n",
    "df = df[df.Push != 1]\n",
    "\n",
    "def date_to_month(time_str):\n",
    "    year, month, day = map(int, time_str.split('-'))\n",
    "    return month\n",
    "df['month'] = df['gameday'].apply(date_to_month)\n",
    "# Function to convert time to seconds\n",
    "def time_to_seconds(time_str):\n",
    "    hours, minutes = map(int, time_str.split(':'))\n",
    "    return hours * 3600 + minutes * 60\n",
    "# Apply the function to the 'time' column\n",
    "df['gametime'] = df['gametime'].apply(time_to_seconds)\n",
    "\n",
    "dict_day = {\"weekday\": {\"Sunday\": 0, \"Monday\": 1, \"Tuesday\": 2, \"Wednesday\": 3, \"Thursday\": 4, \"Friday\": 5, \"Saturday\": 6}}\n",
    "df.replace(dict_day, inplace=True)\n",
    "dict_roof = {\"roof\": {\"outdoors\": 0, \"dome\": 1, \"closed\": 2, \"open\": 3}}\n",
    "df.replace(dict_roof, inplace=True)\n",
    "dict_surface = {\"surface\": {\"grass\": 0, \"grass \": 0, \"fieldturf\": 1, \"astroturf\": 2, \"sportturf\": 3, \"matrixturf\": 4, \"astroplay\": 5, \"a_turf\": 6, \"dessograss\": 7}}\n",
    "df.replace(dict_surface, inplace=True)\n",
    "dict_surface = {\"surface\": {\"grass\": 0, \"grass \": 0, \"fieldturf\": 1, \"astroturf\": 2, \"sportturf\": 3, \"matrixturf\": 4, \"astroplay\": 5, \"a_turf\": 6, \"dessograss\": 7}}\n",
    "df.replace(dict_surface, inplace=True)\n",
    "\n",
    "df = pd.get_dummies(df, drop_first=True, columns=['game_type', 'location', 'stadium_id', 'home_team', 'away_team'])\n",
    "df.dropna(inplace=True)\n",
    "df.reset_index(drop=True, inplace=True)"
   ]
  },
  {
   "cell_type": "code",
   "execution_count": 167,
   "metadata": {},
   "outputs": [],
   "source": [
    "df.columns\n",
    "features = df.drop(['Under', 'Push', 'gameday', 'game_id', 'home_score', 'away_score', 'result', 'total', 'overtime', 'old_game_id', 'gsis', 'nfl_detail_id', 'pfr', 'pff', 'espn', 'ftn', 'away_qb_id', 'home_qb_id', 'away_qb_name', 'home_qb_name', 'away_coach', 'home_coach', 'referee', 'stadium', 'wind', 'temp'], axis=1).columns"
   ]
  },
  {
   "cell_type": "markdown",
   "metadata": {},
   "source": [
    "# Accuracy Testing"
   ]
  },
  {
   "cell_type": "code",
   "execution_count": 168,
   "metadata": {},
   "outputs": [
    {
     "data": {
      "text/html": [
       "<div>\n",
       "<style scoped>\n",
       "    .dataframe tbody tr th:only-of-type {\n",
       "        vertical-align: middle;\n",
       "    }\n",
       "\n",
       "    .dataframe tbody tr th {\n",
       "        vertical-align: top;\n",
       "    }\n",
       "\n",
       "    .dataframe thead th {\n",
       "        text-align: right;\n",
       "    }\n",
       "</style>\n",
       "<table border=\"1\" class=\"dataframe\">\n",
       "  <thead>\n",
       "    <tr style=\"text-align: right;\">\n",
       "      <th>prediction</th>\n",
       "      <th>0</th>\n",
       "      <th>1</th>\n",
       "    </tr>\n",
       "    <tr>\n",
       "      <th>actual</th>\n",
       "      <th></th>\n",
       "      <th></th>\n",
       "    </tr>\n",
       "  </thead>\n",
       "  <tbody>\n",
       "    <tr>\n",
       "      <th>0</th>\n",
       "      <td>3</td>\n",
       "      <td>12</td>\n",
       "    </tr>\n",
       "    <tr>\n",
       "      <th>1</th>\n",
       "      <td>4</td>\n",
       "      <td>17</td>\n",
       "    </tr>\n",
       "  </tbody>\n",
       "</table>\n",
       "</div>"
      ],
      "text/plain": [
       "prediction  0   1\n",
       "actual           \n",
       "0           3  12\n",
       "1           4  17"
      ]
     },
     "execution_count": 168,
     "metadata": {},
     "output_type": "execute_result"
    }
   ],
   "source": [
    "# Model building\n",
    "y = df.Under\n",
    "X = df[features]\n",
    "\n",
    "X_train, X_test, y_train, y_test = train_test_split(X, y, test_size=0.2, random_state=6, stratify=y)\n",
    "\n",
    "from sklearn.ensemble import RandomForestClassifier\n",
    "rf = RandomForestClassifier(n_estimators=50, min_samples_split=10, random_state=1)\n",
    "rf.fit(X_train, y_train)\n",
    "preds = rf.predict(X_test)\n",
    "from sklearn.metrics import accuracy_score, precision_score\n",
    "acc = accuracy_score(y_test, preds)\n",
    "precis = precision_score(y_test, preds)\n",
    "combined = pd.DataFrame(dict(actual=y_test, prediction=preds))\n",
    "pd.crosstab(index=combined['actual'], columns=combined['prediction'])"
   ]
  },
  {
   "cell_type": "markdown",
   "metadata": {},
   "source": [
    "# Weekly Plays"
   ]
  },
  {
   "cell_type": "code",
   "execution_count": 187,
   "metadata": {},
   "outputs": [],
   "source": [
    "import numpy as np\n",
    "import pandas as pd\n",
    "from sklearn.ensemble import RandomForestClassifier\n",
    "import nfl_data_py as nfl\n",
    "import datetime as dt\n",
    "import warnings\n",
    "warnings.filterwarnings('ignore')\n",
    "today = dt.date.today()\n",
    "year = today.year\n",
    "\n",
    "# Variable declaration\n",
    "df = nfl.import_schedules(years=range(year-3,year+1))\n",
    "currSeason = df[df.season == year]\n",
    "predWeek = currSeason[['week', 'total']].dropna()\n",
    "if np.isnan(predWeek.week.max()):\n",
    "    predWeek = 1\n",
    "else:\n",
    "    predWeek = predWeek.week.max()\n",
    "\n",
    "\n",
    "# Prepare dataframe by dropping irrelevant predictors and formatting columns for KNN\n",
    "df['Under'] = np.where(df['total'] < df['total_line'], 1, 0)\n",
    "df['Push'] = np.where(df['total'] == df['total_line'], 1, 0)\n",
    "df = df[df.Push != 1]\n",
    "\n",
    "def date_to_month(time_str):\n",
    "    year, month, day = map(int, time_str.split('-'))\n",
    "    return month\n",
    "df['month'] = df['gameday'].apply(date_to_month)\n",
    "# Function to convert time to seconds\n",
    "def time_to_seconds(time_str):\n",
    "    hours, minutes = map(int, time_str.split(':'))\n",
    "    return hours * 3600 + minutes * 60\n",
    "# Apply the function to the 'time' column\n",
    "df['gametime'] = df['gametime'].apply(time_to_seconds)\n",
    "\n",
    "dict_day = {\"weekday\": {\"Sunday\": 0, \"Monday\": 1, \"Tuesday\": 2, \"Wednesday\": 3, \"Thursday\": 4, \"Friday\": 5, \"Saturday\": 6}}\n",
    "df.replace(dict_day, inplace=True)\n",
    "dict_roof = {\"roof\": {\"outdoors\": 0, \"dome\": 1, \"closed\": 2, \"open\": 3}}\n",
    "df.replace(dict_roof, inplace=True)\n",
    "dict_surface = {\"surface\": {\"grass\": 0, \"grass \": 0, \"fieldturf\": 1, \"astroturf\": 2, \"sportturf\": 3, \"matrixturf\": 4, \"astroplay\": 5, \"a_turf\": 6, \"dessograss\": 7}}\n",
    "df.replace(dict_surface, inplace=True)\n",
    "dict_surface = {\"surface\": {\"grass\": 0, \"grass \": 0, \"fieldturf\": 1, \"astroturf\": 2, \"sportturf\": 3, \"matrixturf\": 4, \"astroplay\": 5, \"a_turf\": 6, \"dessograss\": 7}}\n",
    "df.replace(dict_surface, inplace=True)\n",
    "\n",
    "df = pd.get_dummies(df, drop_first=True, columns=['game_type', 'location', 'stadium_id', 'home_team', 'away_team'])\n",
    "\n",
    "features = df.drop(['Under', 'Push', 'gameday', 'game_id', 'home_score', 'away_score', 'result', 'total', 'overtime', 'old_game_id', 'gsis', 'nfl_detail_id', 'pfr', 'pff', 'espn', 'ftn', 'away_qb_id', 'home_qb_id', 'away_qb_name', 'home_qb_name', 'away_coach', 'home_coach', 'referee', 'stadium', 'wind', 'temp'], axis=1).columns\n",
    "\n",
    "train_df = df[(df.season < year) | ((df.season == year) & (df.week < predWeek))]\n",
    "test_df = df[(df.season == year) & (df.week == predWeek)]\n",
    "train_df.dropna(inplace=True)\n",
    "X_train = train_df[features]\n",
    "y_train = train_df.Under\n",
    "X_test = test_df[features]\n",
    "y_test = test_df.Under\n",
    "\n",
    "from sklearn.ensemble import RandomForestClassifier\n",
    "rf = RandomForestClassifier(n_estimators=50, min_samples_split=10, random_state=1)\n",
    "rf.fit(X_train, y_train)\n",
    "preds = rf.predict(X_test)\n",
    "X_test['Prediction'] = preds\n",
    "# Predicted Plays log\n",
    "nextPlays = pd.merge(right=X_test, left=currSeason, right_index=True, left_index=True, how='left')\n",
    "nextPlays = nextPlays[nextPlays.Prediction == 1]\n",
    "nextPlays = nextPlays[['game_id', 'season_x', 'week_x', 'home_team', 'away_team', 'gametime_x', 'weekday_x', 'total_line_x', 'under_odds_x']]\n",
    "nextPlays.columns = ['Game ID', 'Season', 'Week', 'Home', 'Away', 'Start Time', 'Day', 'Total Line', 'Under Odds']\n",
    "\n",
    "# Value cleanup\n",
    "dict_day = {\"Day\": {0: \"Sunday\", 1: \"Monday\", 2: \"Tuesday\", 3: \"Wednesday\", 4: \"Thursday\", 5: \"Friday\", 6: \"Saturday\"}}\n",
    "nextPlays.replace(dict_day, inplace=True)\n",
    "nextPlays"
   ]
  }
 ],
 "metadata": {
  "kernelspec": {
   "display_name": "Python 3",
   "language": "python",
   "name": "python3"
  },
  "language_info": {
   "codemirror_mode": {
    "name": "ipython",
    "version": 3
   },
   "file_extension": ".py",
   "mimetype": "text/x-python",
   "name": "python",
   "nbconvert_exporter": "python",
   "pygments_lexer": "ipython3",
   "version": "3.11.7"
  }
 },
 "nbformat": 4,
 "nbformat_minor": 2
}
